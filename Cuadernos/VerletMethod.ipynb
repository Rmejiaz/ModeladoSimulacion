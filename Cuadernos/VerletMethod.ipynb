{
  "nbformat": 4,
  "nbformat_minor": 0,
  "metadata": {
    "colab": {
      "name": "VerletMethod.ipynb",
      "provenance": [],
      "include_colab_link": true
    },
    "kernelspec": {
      "name": "python3",
      "display_name": "Python 3"
    },
    "language_info": {
      "name": "python"
    },
    "widgets": {
      "application/vnd.jupyter.widget-state+json": {
        "ff5d250054c54a2e920c7a61886b94be": {
          "model_module": "@jupyter-widgets/controls",
          "model_name": "VBoxModel",
          "state": {
            "_view_name": "VBoxView",
            "_dom_classes": [
              "widget-interact"
            ],
            "_model_name": "VBoxModel",
            "_view_module": "@jupyter-widgets/controls",
            "_model_module_version": "1.5.0",
            "_view_count": null,
            "_view_module_version": "1.5.0",
            "box_style": "",
            "layout": "IPY_MODEL_754084c9c9ea42d4acee3fc2087d4fbb",
            "_model_module": "@jupyter-widgets/controls",
            "children": [
              "IPY_MODEL_51c69ac7fe97434481d2e186936302b5",
              "IPY_MODEL_4595499a7c6c4d188c089f50d471885b"
            ]
          }
        },
        "754084c9c9ea42d4acee3fc2087d4fbb": {
          "model_module": "@jupyter-widgets/base",
          "model_name": "LayoutModel",
          "state": {
            "_view_name": "LayoutView",
            "grid_template_rows": null,
            "right": null,
            "justify_content": null,
            "_view_module": "@jupyter-widgets/base",
            "overflow": null,
            "_model_module_version": "1.2.0",
            "_view_count": null,
            "flex_flow": null,
            "width": null,
            "min_width": null,
            "border": null,
            "align_items": null,
            "bottom": null,
            "_model_module": "@jupyter-widgets/base",
            "top": null,
            "grid_column": null,
            "overflow_y": null,
            "overflow_x": null,
            "grid_auto_flow": null,
            "grid_area": null,
            "grid_template_columns": null,
            "flex": null,
            "_model_name": "LayoutModel",
            "justify_items": null,
            "grid_row": null,
            "max_height": null,
            "align_content": null,
            "visibility": null,
            "align_self": null,
            "height": null,
            "min_height": null,
            "padding": null,
            "grid_auto_rows": null,
            "grid_gap": null,
            "max_width": null,
            "order": null,
            "_view_module_version": "1.2.0",
            "grid_template_areas": null,
            "object_position": null,
            "object_fit": null,
            "grid_auto_columns": null,
            "margin": null,
            "display": null,
            "left": null
          }
        },
        "51c69ac7fe97434481d2e186936302b5": {
          "model_module": "@jupyter-widgets/controls",
          "model_name": "IntSliderModel",
          "state": {
            "_view_name": "IntSliderView",
            "style": "IPY_MODEL_8790861e15e641f3aedf8096e9d04257",
            "_dom_classes": [],
            "description": "t_",
            "step": 1,
            "_model_name": "IntSliderModel",
            "orientation": "horizontal",
            "max": 150000,
            "_view_module": "@jupyter-widgets/controls",
            "_model_module_version": "1.5.0",
            "value": 0,
            "_view_count": null,
            "disabled": false,
            "_view_module_version": "1.5.0",
            "min": 0,
            "continuous_update": true,
            "readout_format": "d",
            "description_tooltip": null,
            "readout": true,
            "_model_module": "@jupyter-widgets/controls",
            "layout": "IPY_MODEL_b32ecadf8d4d41f78613f246592ae149"
          }
        },
        "4595499a7c6c4d188c089f50d471885b": {
          "model_module": "@jupyter-widgets/output",
          "model_name": "OutputModel",
          "state": {
            "_view_name": "OutputView",
            "msg_id": "",
            "_dom_classes": [],
            "_model_name": "OutputModel",
            "outputs": [
              {
                "output_type": "display_data",
                "metadata": {
                  "tags": [],
                  "needs_background": "light"
                },
                "image/png": "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\n",
                "text/plain": "<Figure size 1152x648 with 1 Axes>"
              }
            ],
            "_view_module": "@jupyter-widgets/output",
            "_model_module_version": "1.0.0",
            "_view_count": null,
            "_view_module_version": "1.0.0",
            "layout": "IPY_MODEL_99dfddef105c4d4680ec07c77ee03bf9",
            "_model_module": "@jupyter-widgets/output"
          }
        },
        "8790861e15e641f3aedf8096e9d04257": {
          "model_module": "@jupyter-widgets/controls",
          "model_name": "SliderStyleModel",
          "state": {
            "_view_name": "StyleView",
            "handle_color": null,
            "_model_name": "SliderStyleModel",
            "description_width": "",
            "_view_module": "@jupyter-widgets/base",
            "_model_module_version": "1.5.0",
            "_view_count": null,
            "_view_module_version": "1.2.0",
            "_model_module": "@jupyter-widgets/controls"
          }
        },
        "b32ecadf8d4d41f78613f246592ae149": {
          "model_module": "@jupyter-widgets/base",
          "model_name": "LayoutModel",
          "state": {
            "_view_name": "LayoutView",
            "grid_template_rows": null,
            "right": null,
            "justify_content": null,
            "_view_module": "@jupyter-widgets/base",
            "overflow": null,
            "_model_module_version": "1.2.0",
            "_view_count": null,
            "flex_flow": null,
            "width": null,
            "min_width": null,
            "border": null,
            "align_items": null,
            "bottom": null,
            "_model_module": "@jupyter-widgets/base",
            "top": null,
            "grid_column": null,
            "overflow_y": null,
            "overflow_x": null,
            "grid_auto_flow": null,
            "grid_area": null,
            "grid_template_columns": null,
            "flex": null,
            "_model_name": "LayoutModel",
            "justify_items": null,
            "grid_row": null,
            "max_height": null,
            "align_content": null,
            "visibility": null,
            "align_self": null,
            "height": null,
            "min_height": null,
            "padding": null,
            "grid_auto_rows": null,
            "grid_gap": null,
            "max_width": null,
            "order": null,
            "_view_module_version": "1.2.0",
            "grid_template_areas": null,
            "object_position": null,
            "object_fit": null,
            "grid_auto_columns": null,
            "margin": null,
            "display": null,
            "left": null
          }
        },
        "99dfddef105c4d4680ec07c77ee03bf9": {
          "model_module": "@jupyter-widgets/base",
          "model_name": "LayoutModel",
          "state": {
            "_view_name": "LayoutView",
            "grid_template_rows": null,
            "right": null,
            "justify_content": null,
            "_view_module": "@jupyter-widgets/base",
            "overflow": null,
            "_model_module_version": "1.2.0",
            "_view_count": null,
            "flex_flow": null,
            "width": null,
            "min_width": null,
            "border": null,
            "align_items": null,
            "bottom": null,
            "_model_module": "@jupyter-widgets/base",
            "top": null,
            "grid_column": null,
            "overflow_y": null,
            "overflow_x": null,
            "grid_auto_flow": null,
            "grid_area": null,
            "grid_template_columns": null,
            "flex": null,
            "_model_name": "LayoutModel",
            "justify_items": null,
            "grid_row": null,
            "max_height": null,
            "align_content": null,
            "visibility": null,
            "align_self": null,
            "height": null,
            "min_height": null,
            "padding": null,
            "grid_auto_rows": null,
            "grid_gap": null,
            "max_width": null,
            "order": null,
            "_view_module_version": "1.2.0",
            "grid_template_areas": null,
            "object_position": null,
            "object_fit": null,
            "grid_auto_columns": null,
            "margin": null,
            "display": null,
            "left": null
          }
        }
      }
    }
  },
  "cells": [
    {
      "cell_type": "markdown",
      "metadata": {
        "id": "view-in-github",
        "colab_type": "text"
      },
      "source": [
        "<a href=\"https://colab.research.google.com/github/Rmejiaz/ModeladoSimulacion/blob/main/Cuadernos/VerletMethod.ipynb\" target=\"_parent\"><img src=\"https://colab.research.google.com/assets/colab-badge.svg\" alt=\"Open In Colab\"/></a>"
      ]
    },
    {
      "cell_type": "markdown",
      "metadata": {
        "id": "F01khBkBzDs0"
      },
      "source": [
        "# Método de Verlet para resolver ecuaciones diferenciales ordinarias\n",
        "\n",
        "## Modelado y Simulación\n",
        "\n",
        "#### Rafael Mejía Zuluaga\n",
        "#### Sergio Alejandro Rojas Yantén\n",
        "\n",
        "## Formulación Matemática:\n",
        "\n",
        "\\begin{equation}\n",
        "\\frac{dv}{dt}=a(x(t),v(t),t)\n",
        "\\tag{1}\n",
        "\\end{equation}\n",
        "\n",
        "\\begin{equation}\n",
        "\\frac{dx}{dt}=v(t)\n",
        "\\tag{2}\n",
        "\\end{equation}\n",
        "\n",
        "\\begin{equation}\n",
        "x(t)=\\sum_{n=0}^{\\infty}\\frac{x^{n}(t_{0})}{n!}(t-t_{0})^{n}\n",
        "\\tag{}\n",
        "\\end{equation}\n",
        "\n",
        "\\begin{equation}\n",
        "x(t_{0}+\\Delta t)=\\sum_{n=0}^{\\infty}\\frac{x^{n}(t_{0})}{n!}(\\Delta t)^{n}\n",
        "\\tag{}\n",
        "\\end{equation}\n",
        "\n",
        "\\begin{equation}\n",
        "x(t_{0}-\\Delta t)=\\sum_{n=0}^{\\infty}\\frac{x^{n}(t_{0})}{n!}(-\\Delta t)^{n}\n",
        "\\tag{}\n",
        "\\end{equation}\n",
        "\n",
        "En forma explícita:\n",
        "\n",
        "\\begin{equation}\n",
        "x(t_{0}+\\Delta t)=x(t_{0})+\\dot{x}(t_{0})\\Delta t+\\frac{\\ddot{x}(t_{0})\\Delta t^{2}}{2!}+\\frac{\\dddot{x}(t_{0})\\Delta t^{3}}{3!}+\\frac{x^{(4)}(t_0)\\Delta t^4}{4!}+...+\\frac{x^{(n)}(t_0)\\Delta t^n}{n!}\n",
        "\\tag{}\n",
        "\\end{equation}\n",
        "\n",
        "\\begin{equation}\n",
        "x(t_{0}-\\Delta t)=x(t_{0})-\\dot{x}(t_{0})\\Delta t+\\frac{\\ddot{x}(t_{0})\\Delta t^{2}}{2!}-\\frac{\\dddot{x}(t_{0})\\Delta t^{3}}{3!}+\\frac{x^{(4)}(t_0)\\Delta t^4}{4!}+...+\\frac{x^{(n)}(t_0)\\Delta t^n}{n!}\n",
        "\\tag{}\n",
        "\\end{equation}\n",
        "\n",
        "Expresados en otra manera:\n",
        "\n",
        "\n",
        "\n",
        "\\begin{equation}\n",
        "x_{n+1}\\approx x_{n}+v_{n}\\Delta t+\\frac{1}{2}a_{n}(\\Delta t)^{2}\n",
        "\\tag{}\n",
        "\\end{equation}\n",
        "\n",
        "\\begin{equation}\n",
        "x_{n-1}\\approx x_{n}-v_{n}\\Delta t+\\frac{1}{2}a_{n}(\\Delta t)^{2}\n",
        "\\tag{}\n",
        "\\end{equation}\n",
        "\n",
        "\\begin{equation}\n",
        "x_{n+1}\\approx 2x_{n}-x_{n-1}+a_{n}(\\Delta t)^{2}\n",
        "\\tag{}\n",
        "\\end{equation}\n",
        "\n",
        "\\begin{equation}\n",
        "v_{n}\\approx \\frac{x_{n+1}-x_{n-1}}{2\\Delta t}\n",
        "\\tag{}\n",
        "\\end{equation}"
      ]
    },
    {
      "cell_type": "markdown",
      "metadata": {
        "id": "bIYwOYqI2yGO"
      },
      "source": [
        "## Algoritmo:"
      ]
    },
    {
      "cell_type": "code",
      "metadata": {
        "id": "6n-Hyd1Qyrs9"
      },
      "source": [
        "import numpy as np\n",
        "import matplotlib.pyplot as plt\n",
        "from ipywidgets import interact\n",
        "\n",
        "def verlet(f,x0,v0,ti,tf,h):\n",
        "  N = int((tf-ti)/h)\n",
        "  t = np.linspace(ti,tf,N+1)\n",
        "  x = np.zeros(N+1)\n",
        "\n",
        "  x[0] = x0 - v0*h + 0.5 * f(t[0],x0)*h**2  # Posición anterior a la inicial\n",
        "  x[1] = x0  # Posición inicial\n",
        "\n",
        "  for n in range(1,len(x)-1):\n",
        "    x[n+1] = 2*x[n] - x[n-1] + f(t[n],x[n])*h**2\n",
        "\n",
        "  return t, x"
      ],
      "execution_count": 33,
      "outputs": []
    },
    {
      "cell_type": "code",
      "metadata": {
        "colab": {
          "base_uri": "https://localhost:8080/",
          "height": 560
        },
        "id": "tZN7684bOuG6",
        "outputId": "426d5e26-40c8-44bc-f1e9-4f0765a711f9"
      },
      "source": [
        "def f(t,x):\n",
        "  return -9.8\n",
        "\n",
        "t,y = verlet(f,100,0,0,10,0.001)\n",
        "y[y<0] = 0\n",
        "plt.figure(figsize=(16,9))\n",
        "plt.plot(t,y)\n",
        "plt.xlabel(\"$t$\",fontsize=20)\n",
        "plt.ylabel(\"$y(t)$\",fontsize=20)\n",
        "plt.grid('on')\n",
        "plt.show()"
      ],
      "execution_count": 99,
      "outputs": [
        {
          "output_type": "display_data",
          "data": {
            "image/png": "[encoded data removed]",
            "text/plain": [
              "<Figure size 1152x648 with 1 Axes>"
            ]
          },
          "metadata": {
            "tags": [],
            "needs_background": "light"
          }
        }
      ]
    },
    {
      "cell_type": "code",
      "metadata": {
        "colab": {
          "base_uri": "https://localhost:8080/",
          "height": 560
        },
        "id": "rHCXf-4OTxK4",
        "outputId": "3f95c777-89d0-4aed-b7ec-3c45e9d28fc5"
      },
      "source": [
        "def f(t,x):\n",
        "  return -5*x\n",
        "\n",
        "t,y = verlet(f,100,0,0,10,0.001)\n",
        "\n",
        "plt.figure(figsize=(16,9))\n",
        "plt.plot(t,y)\n",
        "plt.xlabel(\"$t$\",fontsize=20)\n",
        "plt.ylabel(\"$x(t)$\",fontsize=20)\n",
        "plt.grid()\n",
        "plt.show()"
      ],
      "execution_count": 97,
      "outputs": [
        {
          "output_type": "display_data",
          "data": {
            "image/png": "[encoded data removed]",
            "text/plain": [
              "<Figure size 1152x648 with 1 Axes>"
            ]
          },
          "metadata": {
            "tags": [],
            "needs_background": "light"
          }
        }
      ]
    },
    {
      "cell_type": "code",
      "metadata": {
        "id": "jioRUVTsowOc",
        "colab": {
          "base_uri": "https://localhost:8080/",
          "height": 598,
          "referenced_widgets": [
            "ff5d250054c54a2e920c7a61886b94be",
            "754084c9c9ea42d4acee3fc2087d4fbb",
            "51c69ac7fe97434481d2e186936302b5",
            "4595499a7c6c4d188c089f50d471885b",
            "8790861e15e641f3aedf8096e9d04257",
            "b32ecadf8d4d41f78613f246592ae149",
            "99dfddef105c4d4680ec07c77ee03bf9"
          ]
        },
        "outputId": "d62084d5-6eef-41ba-a931-658c76c0ff9c"
      },
      "source": [
        "def f(t,x):\n",
        "  return -9.8\n",
        "\n",
        "def f2(t,x):\n",
        "  return -3\n",
        "\n",
        "x0, y0 = 0,0\n",
        "\n",
        "vx0 = 100\n",
        "vy0 = 50\n",
        "t,y = verlet(f,y0,vy0,0,15,0.0001)\n",
        "t,x = verlet(f2,x0,vx0,0,15,0.0001)\n",
        "\n",
        "y[y<0] = 0\n",
        "\n",
        "\n",
        "@interact(t_ = (0,len(x)-1,1))\n",
        "def interactive(t_=0):\n",
        "  plt.figure(figsize=(16,9))\n",
        "  plt.scatter(x[t_],y[t_],s=200)\n",
        "  plt.plot(x[:t_],y[:t_],'red',linestyle='--')\n",
        "  plt.axis([0,1200,0,200])\n",
        "  plt.grid('on')\n",
        "  plt.ylabel(\"$y(t)$\",fontsize=20)\n",
        "  plt.xlabel(\"$x(t)$\",fontsize=20)\n",
        "  plt.show()"
      ],
      "execution_count": 98,
      "outputs": [
        {
          "output_type": "display_data",
          "data": {
            "application/vnd.jupyter.widget-view+json": {
              "model_id": "ff5d250054c54a2e920c7a61886b94be",
              "version_minor": 0,
              "version_major": 2
            },
            "text/plain": [
              "interactive(children=(IntSlider(value=0, description='t_', max=150000), Output()), _dom_classes=('widget-inter…"
            ]
          },
          "metadata": {
            "tags": []
          }
        }
      ]
    },
    {
      "cell_type": "code",
      "metadata": {
        "id": "PWN4YTaX90en"
      },
      "source": [
        ""
      ],
      "execution_count": 3,
      "outputs": []
    },
    {
      "cell_type": "code",
      "metadata": {
        "id": "HSBHe7Bh-Kym"
      },
      "source": [
        ""
      ],
      "execution_count": 3,
      "outputs": []
    }
  ]
}